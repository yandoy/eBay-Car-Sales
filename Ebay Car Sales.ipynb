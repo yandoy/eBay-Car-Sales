{
 "cells": [
  {
   "cell_type": "markdown",
   "metadata": {
    "collapsed": true
   },
   "source": [
    "# Exploring eBay Car Sales\n",
    "\n",
    "We will clean and explore this eBay car sales dataset with 50K data points. We are interested in finding out if for the top 10 car brand listings on the website there exists a correlation between the average price of the car and the average mileage of the car."
   ]
  },
  {
   "cell_type": "code",
   "execution_count": 1,
   "metadata": {
    "collapsed": false
   },
   "outputs": [
    {
     "name": "stdout",
     "output_type": "stream",
     "text": [
      "<class 'pandas.core.frame.DataFrame'>\n",
      "RangeIndex: 50000 entries, 0 to 49999\n",
      "Data columns (total 20 columns):\n",
      "dateCrawled            50000 non-null object\n",
      "name                   50000 non-null object\n",
      "seller                 50000 non-null object\n",
      "offerType              50000 non-null object\n",
      "price                  50000 non-null object\n",
      "abtest                 50000 non-null object\n",
      "vehicleType            44905 non-null object\n",
      "yearOfRegistration     50000 non-null int64\n",
      "gearbox                47320 non-null object\n",
      "powerPS                50000 non-null int64\n",
      "model                  47242 non-null object\n",
      "odometer               50000 non-null object\n",
      "monthOfRegistration    50000 non-null int64\n",
      "fuelType               45518 non-null object\n",
      "brand                  50000 non-null object\n",
      "notRepairedDamage      40171 non-null object\n",
      "dateCreated            50000 non-null object\n",
      "nrOfPictures           50000 non-null int64\n",
      "postalCode             50000 non-null int64\n",
      "lastSeen               50000 non-null object\n",
      "dtypes: int64(5), object(15)\n",
      "memory usage: 7.6+ MB\n"
     ]
    }
   ],
   "source": [
    "import pandas as pd\n",
    "\n",
    "autos = pd.read_csv('autos.csv', encoding = 'Latin-1')\n",
    "autos.info()"
   ]
  },
  {
   "cell_type": "markdown",
   "metadata": {
    "collapsed": true
   },
   "source": [
    "We can see that the dataset has 20 columns where the column names follow the camelcase and we would like to use snakecase. So we will go ahead and change the column names. "
   ]
  },
  {
   "cell_type": "code",
   "execution_count": 2,
   "metadata": {
    "collapsed": false
   },
   "outputs": [
    {
     "data": {
      "text/plain": [
       "Index(['dateCrawled', 'name', 'seller', 'offerType', 'price', 'abtest',\n",
       "       'vehicleType', 'yearOfRegistration', 'gearbox', 'powerPS', 'model',\n",
       "       'odometer', 'monthOfRegistration', 'fuelType', 'brand',\n",
       "       'notRepairedDamage', 'dateCreated', 'nrOfPictures', 'postalCode',\n",
       "       'lastSeen'],\n",
       "      dtype='object')"
      ]
     },
     "execution_count": 2,
     "metadata": {},
     "output_type": "execute_result"
    }
   ],
   "source": [
    "autos.columns"
   ]
  },
  {
   "cell_type": "code",
   "execution_count": 3,
   "metadata": {
    "collapsed": true
   },
   "outputs": [],
   "source": [
    "autos.columns = ['date_crawled', 'name', 'seller', 'offer_type', 'price', 'abtest',\n",
    "       'vehicle_type', 'registration_year', 'gearbox', 'power_ps', 'model',\n",
    "       'odometer', 'registration_month', 'fuel_type', 'brand',\n",
    "       'unrepaired_damage', 'ad_created', 'num_of_pictures', 'postal_code',\n",
    "       'last_seen']"
   ]
  },
  {
   "cell_type": "code",
   "execution_count": 4,
   "metadata": {
    "collapsed": false
   },
   "outputs": [
    {
     "name": "stdout",
     "output_type": "stream",
     "text": [
      "<class 'pandas.core.frame.DataFrame'>\n",
      "RangeIndex: 50000 entries, 0 to 49999\n",
      "Data columns (total 20 columns):\n",
      "date_crawled          50000 non-null object\n",
      "name                  50000 non-null object\n",
      "seller                50000 non-null object\n",
      "offer_type            50000 non-null object\n",
      "price                 50000 non-null object\n",
      "abtest                50000 non-null object\n",
      "vehicle_type          44905 non-null object\n",
      "registration_year     50000 non-null int64\n",
      "gearbox               47320 non-null object\n",
      "power_ps              50000 non-null int64\n",
      "model                 47242 non-null object\n",
      "odometer              50000 non-null object\n",
      "registration_month    50000 non-null int64\n",
      "fuel_type             45518 non-null object\n",
      "brand                 50000 non-null object\n",
      "unrepaired_damage     40171 non-null object\n",
      "ad_created            50000 non-null object\n",
      "num_of_pictures       50000 non-null int64\n",
      "postal_code           50000 non-null int64\n",
      "last_seen             50000 non-null object\n",
      "dtypes: int64(5), object(15)\n",
      "memory usage: 7.6+ MB\n"
     ]
    }
   ],
   "source": [
    "autos.info()"
   ]
  },
  {
   "cell_type": "markdown",
   "metadata": {},
   "source": [
    "Now we have a nice and clean snakecase column names. We notice that the price and odometer columns are not numeric. We need them to be numeric so that we can compute averages and basically perform math on these numbers. We will also change the odometer name to odometer_km so that we know we are working with kilometers."
   ]
  },
  {
   "cell_type": "code",
   "execution_count": 5,
   "metadata": {
    "collapsed": false
   },
   "outputs": [
    {
     "data": {
      "text/html": [
       "<div>\n",
       "<style scoped>\n",
       "    .dataframe tbody tr th:only-of-type {\n",
       "        vertical-align: middle;\n",
       "    }\n",
       "\n",
       "    .dataframe tbody tr th {\n",
       "        vertical-align: top;\n",
       "    }\n",
       "\n",
       "    .dataframe thead th {\n",
       "        text-align: right;\n",
       "    }\n",
       "</style>\n",
       "<table border=\"1\" class=\"dataframe\">\n",
       "  <thead>\n",
       "    <tr style=\"text-align: right;\">\n",
       "      <th></th>\n",
       "      <th>date_crawled</th>\n",
       "      <th>name</th>\n",
       "      <th>seller</th>\n",
       "      <th>offer_type</th>\n",
       "      <th>price</th>\n",
       "      <th>abtest</th>\n",
       "      <th>vehicle_type</th>\n",
       "      <th>registration_year</th>\n",
       "      <th>gearbox</th>\n",
       "      <th>power_ps</th>\n",
       "      <th>model</th>\n",
       "      <th>odometer_km</th>\n",
       "      <th>registration_month</th>\n",
       "      <th>fuel_type</th>\n",
       "      <th>brand</th>\n",
       "      <th>unrepaired_damage</th>\n",
       "      <th>ad_created</th>\n",
       "      <th>num_of_pictures</th>\n",
       "      <th>postal_code</th>\n",
       "      <th>last_seen</th>\n",
       "    </tr>\n",
       "  </thead>\n",
       "  <tbody>\n",
       "    <tr>\n",
       "      <th>0</th>\n",
       "      <td>2016-03-26 17:47:46</td>\n",
       "      <td>Peugeot_807_160_NAVTECH_ON_BOARD</td>\n",
       "      <td>privat</td>\n",
       "      <td>Angebot</td>\n",
       "      <td>5000</td>\n",
       "      <td>control</td>\n",
       "      <td>bus</td>\n",
       "      <td>2004</td>\n",
       "      <td>manuell</td>\n",
       "      <td>158</td>\n",
       "      <td>andere</td>\n",
       "      <td>150000</td>\n",
       "      <td>3</td>\n",
       "      <td>lpg</td>\n",
       "      <td>peugeot</td>\n",
       "      <td>nein</td>\n",
       "      <td>2016-03-26 00:00:00</td>\n",
       "      <td>0</td>\n",
       "      <td>79588</td>\n",
       "      <td>2016-04-06 06:45:54</td>\n",
       "    </tr>\n",
       "    <tr>\n",
       "      <th>1</th>\n",
       "      <td>2016-04-04 13:38:56</td>\n",
       "      <td>BMW_740i_4_4_Liter_HAMANN_UMBAU_Mega_Optik</td>\n",
       "      <td>privat</td>\n",
       "      <td>Angebot</td>\n",
       "      <td>8500</td>\n",
       "      <td>control</td>\n",
       "      <td>limousine</td>\n",
       "      <td>1997</td>\n",
       "      <td>automatik</td>\n",
       "      <td>286</td>\n",
       "      <td>7er</td>\n",
       "      <td>150000</td>\n",
       "      <td>6</td>\n",
       "      <td>benzin</td>\n",
       "      <td>bmw</td>\n",
       "      <td>nein</td>\n",
       "      <td>2016-04-04 00:00:00</td>\n",
       "      <td>0</td>\n",
       "      <td>71034</td>\n",
       "      <td>2016-04-06 14:45:08</td>\n",
       "    </tr>\n",
       "    <tr>\n",
       "      <th>2</th>\n",
       "      <td>2016-03-26 18:57:24</td>\n",
       "      <td>Volkswagen_Golf_1.6_United</td>\n",
       "      <td>privat</td>\n",
       "      <td>Angebot</td>\n",
       "      <td>8990</td>\n",
       "      <td>test</td>\n",
       "      <td>limousine</td>\n",
       "      <td>2009</td>\n",
       "      <td>manuell</td>\n",
       "      <td>102</td>\n",
       "      <td>golf</td>\n",
       "      <td>70000</td>\n",
       "      <td>7</td>\n",
       "      <td>benzin</td>\n",
       "      <td>volkswagen</td>\n",
       "      <td>nein</td>\n",
       "      <td>2016-03-26 00:00:00</td>\n",
       "      <td>0</td>\n",
       "      <td>35394</td>\n",
       "      <td>2016-04-06 20:15:37</td>\n",
       "    </tr>\n",
       "    <tr>\n",
       "      <th>3</th>\n",
       "      <td>2016-03-12 16:58:10</td>\n",
       "      <td>Smart_smart_fortwo_coupe_softouch/F1/Klima/Pan...</td>\n",
       "      <td>privat</td>\n",
       "      <td>Angebot</td>\n",
       "      <td>4350</td>\n",
       "      <td>control</td>\n",
       "      <td>kleinwagen</td>\n",
       "      <td>2007</td>\n",
       "      <td>automatik</td>\n",
       "      <td>71</td>\n",
       "      <td>fortwo</td>\n",
       "      <td>70000</td>\n",
       "      <td>6</td>\n",
       "      <td>benzin</td>\n",
       "      <td>smart</td>\n",
       "      <td>nein</td>\n",
       "      <td>2016-03-12 00:00:00</td>\n",
       "      <td>0</td>\n",
       "      <td>33729</td>\n",
       "      <td>2016-03-15 03:16:28</td>\n",
       "    </tr>\n",
       "    <tr>\n",
       "      <th>4</th>\n",
       "      <td>2016-04-01 14:38:50</td>\n",
       "      <td>Ford_Focus_1_6_Benzin_TÜV_neu_ist_sehr_gepfleg...</td>\n",
       "      <td>privat</td>\n",
       "      <td>Angebot</td>\n",
       "      <td>1350</td>\n",
       "      <td>test</td>\n",
       "      <td>kombi</td>\n",
       "      <td>2003</td>\n",
       "      <td>manuell</td>\n",
       "      <td>0</td>\n",
       "      <td>focus</td>\n",
       "      <td>150000</td>\n",
       "      <td>7</td>\n",
       "      <td>benzin</td>\n",
       "      <td>ford</td>\n",
       "      <td>nein</td>\n",
       "      <td>2016-04-01 00:00:00</td>\n",
       "      <td>0</td>\n",
       "      <td>39218</td>\n",
       "      <td>2016-04-01 14:38:50</td>\n",
       "    </tr>\n",
       "  </tbody>\n",
       "</table>\n",
       "</div>"
      ],
      "text/plain": [
       "          date_crawled                                               name  \\\n",
       "0  2016-03-26 17:47:46                   Peugeot_807_160_NAVTECH_ON_BOARD   \n",
       "1  2016-04-04 13:38:56         BMW_740i_4_4_Liter_HAMANN_UMBAU_Mega_Optik   \n",
       "2  2016-03-26 18:57:24                         Volkswagen_Golf_1.6_United   \n",
       "3  2016-03-12 16:58:10  Smart_smart_fortwo_coupe_softouch/F1/Klima/Pan...   \n",
       "4  2016-04-01 14:38:50  Ford_Focus_1_6_Benzin_TÜV_neu_ist_sehr_gepfleg...   \n",
       "\n",
       "   seller offer_type  price   abtest vehicle_type  registration_year  \\\n",
       "0  privat    Angebot   5000  control          bus               2004   \n",
       "1  privat    Angebot   8500  control    limousine               1997   \n",
       "2  privat    Angebot   8990     test    limousine               2009   \n",
       "3  privat    Angebot   4350  control   kleinwagen               2007   \n",
       "4  privat    Angebot   1350     test        kombi               2003   \n",
       "\n",
       "     gearbox  power_ps   model  odometer_km  registration_month fuel_type  \\\n",
       "0    manuell       158  andere       150000                   3       lpg   \n",
       "1  automatik       286     7er       150000                   6    benzin   \n",
       "2    manuell       102    golf        70000                   7    benzin   \n",
       "3  automatik        71  fortwo        70000                   6    benzin   \n",
       "4    manuell         0   focus       150000                   7    benzin   \n",
       "\n",
       "        brand unrepaired_damage           ad_created  num_of_pictures  \\\n",
       "0     peugeot              nein  2016-03-26 00:00:00                0   \n",
       "1         bmw              nein  2016-04-04 00:00:00                0   \n",
       "2  volkswagen              nein  2016-03-26 00:00:00                0   \n",
       "3       smart              nein  2016-03-12 00:00:00                0   \n",
       "4        ford              nein  2016-04-01 00:00:00                0   \n",
       "\n",
       "   postal_code            last_seen  \n",
       "0        79588  2016-04-06 06:45:54  \n",
       "1        71034  2016-04-06 14:45:08  \n",
       "2        35394  2016-04-06 20:15:37  \n",
       "3        33729  2016-03-15 03:16:28  \n",
       "4        39218  2016-04-01 14:38:50  "
      ]
     },
     "execution_count": 5,
     "metadata": {},
     "output_type": "execute_result"
    }
   ],
   "source": [
    "autos[\"price\"] = autos[\"price\"].str.replace(\"$\", \"\").str.replace(\",\", \"\").astype(int)\n",
    "autos[\"odometer\"] = autos[\"odometer\"].str.replace(\"km\", \"\").str.replace(\",\", \"\").astype(int)\n",
    "autos = autos.rename({\"odometer\": \"odometer_km\"}, axis = 1)\n",
    "autos.head()"
   ]
  },
  {
   "cell_type": "markdown",
   "metadata": {},
   "source": [
    "Let's check if there are any columns that we can remove because the are more or less consistent or we are not really interested in them."
   ]
  },
  {
   "cell_type": "code",
   "execution_count": 6,
   "metadata": {
    "collapsed": false
   },
   "outputs": [
    {
     "name": "stdout",
     "output_type": "stream",
     "text": [
      "['privat' 'gewerblich']\n",
      "['Angebot' 'Gesuch']\n",
      "[0]\n"
     ]
    }
   ],
   "source": [
    "print(autos[\"seller\"].unique())\n",
    "print(autos[\"offer_type\"].unique())\n",
    "print(autos[\"num_of_pictures\"].unique())\n",
    "autos = autos.drop(columns = [\"seller\", \"offer_type\", \"num_of_pictures\"])"
   ]
  },
  {
   "cell_type": "markdown",
   "metadata": {},
   "source": [
    "Now that we got rid of some columns that were not providing interesting information lets move on to outliers in the dataset."
   ]
  },
  {
   "cell_type": "code",
   "execution_count": 7,
   "metadata": {
    "collapsed": false,
    "scrolled": true
   },
   "outputs": [
    {
     "data": {
      "text/html": [
       "<div>\n",
       "<style scoped>\n",
       "    .dataframe tbody tr th:only-of-type {\n",
       "        vertical-align: middle;\n",
       "    }\n",
       "\n",
       "    .dataframe tbody tr th {\n",
       "        vertical-align: top;\n",
       "    }\n",
       "\n",
       "    .dataframe thead th {\n",
       "        text-align: right;\n",
       "    }\n",
       "</style>\n",
       "<table border=\"1\" class=\"dataframe\">\n",
       "  <thead>\n",
       "    <tr style=\"text-align: right;\">\n",
       "      <th></th>\n",
       "      <th>price</th>\n",
       "      <th>registration_year</th>\n",
       "      <th>power_ps</th>\n",
       "      <th>odometer_km</th>\n",
       "      <th>registration_month</th>\n",
       "      <th>postal_code</th>\n",
       "    </tr>\n",
       "  </thead>\n",
       "  <tbody>\n",
       "    <tr>\n",
       "      <th>count</th>\n",
       "      <td>5.000000e+04</td>\n",
       "      <td>50000.000000</td>\n",
       "      <td>50000.000000</td>\n",
       "      <td>50000.000000</td>\n",
       "      <td>50000.000000</td>\n",
       "      <td>50000.000000</td>\n",
       "    </tr>\n",
       "    <tr>\n",
       "      <th>mean</th>\n",
       "      <td>9.840044e+03</td>\n",
       "      <td>2005.073280</td>\n",
       "      <td>116.355920</td>\n",
       "      <td>125732.700000</td>\n",
       "      <td>5.723360</td>\n",
       "      <td>50813.627300</td>\n",
       "    </tr>\n",
       "    <tr>\n",
       "      <th>std</th>\n",
       "      <td>4.811044e+05</td>\n",
       "      <td>105.712813</td>\n",
       "      <td>209.216627</td>\n",
       "      <td>40042.211706</td>\n",
       "      <td>3.711984</td>\n",
       "      <td>25779.747957</td>\n",
       "    </tr>\n",
       "    <tr>\n",
       "      <th>min</th>\n",
       "      <td>0.000000e+00</td>\n",
       "      <td>1000.000000</td>\n",
       "      <td>0.000000</td>\n",
       "      <td>5000.000000</td>\n",
       "      <td>0.000000</td>\n",
       "      <td>1067.000000</td>\n",
       "    </tr>\n",
       "    <tr>\n",
       "      <th>25%</th>\n",
       "      <td>1.100000e+03</td>\n",
       "      <td>1999.000000</td>\n",
       "      <td>70.000000</td>\n",
       "      <td>125000.000000</td>\n",
       "      <td>3.000000</td>\n",
       "      <td>30451.000000</td>\n",
       "    </tr>\n",
       "    <tr>\n",
       "      <th>50%</th>\n",
       "      <td>2.950000e+03</td>\n",
       "      <td>2003.000000</td>\n",
       "      <td>105.000000</td>\n",
       "      <td>150000.000000</td>\n",
       "      <td>6.000000</td>\n",
       "      <td>49577.000000</td>\n",
       "    </tr>\n",
       "    <tr>\n",
       "      <th>75%</th>\n",
       "      <td>7.200000e+03</td>\n",
       "      <td>2008.000000</td>\n",
       "      <td>150.000000</td>\n",
       "      <td>150000.000000</td>\n",
       "      <td>9.000000</td>\n",
       "      <td>71540.000000</td>\n",
       "    </tr>\n",
       "    <tr>\n",
       "      <th>max</th>\n",
       "      <td>1.000000e+08</td>\n",
       "      <td>9999.000000</td>\n",
       "      <td>17700.000000</td>\n",
       "      <td>150000.000000</td>\n",
       "      <td>12.000000</td>\n",
       "      <td>99998.000000</td>\n",
       "    </tr>\n",
       "  </tbody>\n",
       "</table>\n",
       "</div>"
      ],
      "text/plain": [
       "              price  registration_year      power_ps    odometer_km  \\\n",
       "count  5.000000e+04       50000.000000  50000.000000   50000.000000   \n",
       "mean   9.840044e+03        2005.073280    116.355920  125732.700000   \n",
       "std    4.811044e+05         105.712813    209.216627   40042.211706   \n",
       "min    0.000000e+00        1000.000000      0.000000    5000.000000   \n",
       "25%    1.100000e+03        1999.000000     70.000000  125000.000000   \n",
       "50%    2.950000e+03        2003.000000    105.000000  150000.000000   \n",
       "75%    7.200000e+03        2008.000000    150.000000  150000.000000   \n",
       "max    1.000000e+08        9999.000000  17700.000000  150000.000000   \n",
       "\n",
       "       registration_month   postal_code  \n",
       "count        50000.000000  50000.000000  \n",
       "mean             5.723360  50813.627300  \n",
       "std              3.711984  25779.747957  \n",
       "min              0.000000   1067.000000  \n",
       "25%              3.000000  30451.000000  \n",
       "50%              6.000000  49577.000000  \n",
       "75%              9.000000  71540.000000  \n",
       "max             12.000000  99998.000000  "
      ]
     },
     "execution_count": 7,
     "metadata": {},
     "output_type": "execute_result"
    }
   ],
   "source": [
    "autos.describe()"
   ]
  },
  {
   "cell_type": "markdown",
   "metadata": {},
   "source": [
    "From the distribution we can see that price, registration year and odometer have some outliers we will check all of these columns and get rid of the outliers."
   ]
  },
  {
   "cell_type": "code",
   "execution_count": 8,
   "metadata": {
    "collapsed": false
   },
   "outputs": [
    {
     "name": "stdout",
     "output_type": "stream",
     "text": [
      "Top 5 least expensive cars:\n",
      " 0    1421\n",
      "1     156\n",
      "2       3\n",
      "3       1\n",
      "5       2\n",
      "Name: price, dtype: int64 \n",
      "\n",
      "Top 5 most expensive cars:\n",
      " 99999999    1\n",
      "27322222    1\n",
      "12345678    3\n",
      "11111111    2\n",
      "10000000    1\n",
      "Name: price, dtype: int64\n"
     ]
    }
   ],
   "source": [
    "print(\"Top 5 least expensive cars:\\n\", autos[\"price\"].value_counts().sort_index().head(),\"\\n\")\n",
    "print(\"Top 5 most expensive cars:\\n\", autos[\"price\"].value_counts().sort_index(ascending = False).head())"
   ]
  },
  {
   "cell_type": "code",
   "execution_count": 9,
   "metadata": {
    "collapsed": true
   },
   "outputs": [],
   "source": [
    "#Only makes sense to have the price of cars between 100 and 100K\n",
    "autos = autos[autos[\"price\"].between(100,100000)] "
   ]
  },
  {
   "cell_type": "code",
   "execution_count": 10,
   "metadata": {
    "collapsed": false
   },
   "outputs": [
    {
     "name": "stdout",
     "output_type": "stream",
     "text": [
      "Top 5 least milage:\n",
      " 5000     751\n",
      "10000    242\n",
      "20000    749\n",
      "30000    771\n",
      "40000    813\n",
      "Name: odometer_km, dtype: int64 \n",
      "\n",
      "Top 5 most milage:\n",
      " 150000    31209\n",
      "125000     5035\n",
      "100000     2099\n",
      "90000      1733\n",
      "80000      1411\n",
      "Name: odometer_km, dtype: int64\n"
     ]
    }
   ],
   "source": [
    "print(\"Top 5 least milage:\\n\", autos[\"odometer_km\"].value_counts().sort_index().head(),\"\\n\")\n",
    "print(\"Top 5 most milage:\\n\", autos[\"odometer_km\"].value_counts().sort_index(ascending = False).head())"
   ]
  },
  {
   "cell_type": "code",
   "execution_count": 11,
   "metadata": {
    "collapsed": true
   },
   "outputs": [],
   "source": [
    "# Only makes sense to have a milage of 10k to 150k \n",
    "autos = autos[autos[\"odometer_km\"].between(10000,150000)]"
   ]
  },
  {
   "cell_type": "code",
   "execution_count": 12,
   "metadata": {
    "collapsed": false
   },
   "outputs": [
    {
     "name": "stdout",
     "output_type": "stream",
     "text": [
      "Top 5 oldest cars:\n",
      " 1910    1\n",
      "1931    1\n",
      "1934    1\n",
      "1937    2\n",
      "1941    2\n",
      "Name: registration_year, dtype: int64 \n",
      "\n",
      "Top 5 newest cars:\n",
      " 9999    3\n",
      "9000    1\n",
      "8888    1\n",
      "6200    1\n",
      "5911    1\n",
      "Name: registration_year, dtype: int64\n"
     ]
    }
   ],
   "source": [
    "print(\"Top 5 oldest cars:\\n\", autos[\"registration_year\"].value_counts().sort_index().head(),\"\\n\")\n",
    "print(\"Top 5 newest cars:\\n\", autos[\"registration_year\"].value_counts().sort_index(ascending = False).head())"
   ]
  },
  {
   "cell_type": "code",
   "execution_count": 13,
   "metadata": {
    "collapsed": false
   },
   "outputs": [
    {
     "data": {
      "text/html": [
       "<div>\n",
       "<style scoped>\n",
       "    .dataframe tbody tr th:only-of-type {\n",
       "        vertical-align: middle;\n",
       "    }\n",
       "\n",
       "    .dataframe tbody tr th {\n",
       "        vertical-align: top;\n",
       "    }\n",
       "\n",
       "    .dataframe thead th {\n",
       "        text-align: right;\n",
       "    }\n",
       "</style>\n",
       "<table border=\"1\" class=\"dataframe\">\n",
       "  <thead>\n",
       "    <tr style=\"text-align: right;\">\n",
       "      <th></th>\n",
       "      <th>price</th>\n",
       "      <th>registration_year</th>\n",
       "      <th>power_ps</th>\n",
       "      <th>odometer_km</th>\n",
       "      <th>registration_month</th>\n",
       "      <th>postal_code</th>\n",
       "    </tr>\n",
       "  </thead>\n",
       "  <tbody>\n",
       "    <tr>\n",
       "      <th>count</th>\n",
       "      <td>47427.000000</td>\n",
       "      <td>47427.000000</td>\n",
       "      <td>47427.000000</td>\n",
       "      <td>47427.000000</td>\n",
       "      <td>47427.000000</td>\n",
       "      <td>47427.000000</td>\n",
       "    </tr>\n",
       "    <tr>\n",
       "      <th>mean</th>\n",
       "      <td>5777.421216</td>\n",
       "      <td>2003.533156</td>\n",
       "      <td>117.791553</td>\n",
       "      <td>127919.644928</td>\n",
       "      <td>5.826976</td>\n",
       "      <td>51045.792861</td>\n",
       "    </tr>\n",
       "    <tr>\n",
       "      <th>std</th>\n",
       "      <td>7435.396984</td>\n",
       "      <td>7.327546</td>\n",
       "      <td>201.551156</td>\n",
       "      <td>36675.088739</td>\n",
       "      <td>3.666954</td>\n",
       "      <td>25743.305971</td>\n",
       "    </tr>\n",
       "    <tr>\n",
       "      <th>min</th>\n",
       "      <td>100.000000</td>\n",
       "      <td>1910.000000</td>\n",
       "      <td>0.000000</td>\n",
       "      <td>10000.000000</td>\n",
       "      <td>0.000000</td>\n",
       "      <td>1067.000000</td>\n",
       "    </tr>\n",
       "    <tr>\n",
       "      <th>25%</th>\n",
       "      <td>1250.000000</td>\n",
       "      <td>1999.000000</td>\n",
       "      <td>75.000000</td>\n",
       "      <td>125000.000000</td>\n",
       "      <td>3.000000</td>\n",
       "      <td>30826.000000</td>\n",
       "    </tr>\n",
       "    <tr>\n",
       "      <th>50%</th>\n",
       "      <td>3012.000000</td>\n",
       "      <td>2004.000000</td>\n",
       "      <td>109.000000</td>\n",
       "      <td>150000.000000</td>\n",
       "      <td>6.000000</td>\n",
       "      <td>49740.000000</td>\n",
       "    </tr>\n",
       "    <tr>\n",
       "      <th>75%</th>\n",
       "      <td>7498.000000</td>\n",
       "      <td>2008.000000</td>\n",
       "      <td>150.000000</td>\n",
       "      <td>150000.000000</td>\n",
       "      <td>9.000000</td>\n",
       "      <td>71706.000000</td>\n",
       "    </tr>\n",
       "    <tr>\n",
       "      <th>max</th>\n",
       "      <td>99900.000000</td>\n",
       "      <td>2019.000000</td>\n",
       "      <td>17700.000000</td>\n",
       "      <td>150000.000000</td>\n",
       "      <td>12.000000</td>\n",
       "      <td>99998.000000</td>\n",
       "    </tr>\n",
       "  </tbody>\n",
       "</table>\n",
       "</div>"
      ],
      "text/plain": [
       "              price  registration_year      power_ps    odometer_km  \\\n",
       "count  47427.000000       47427.000000  47427.000000   47427.000000   \n",
       "mean    5777.421216        2003.533156    117.791553  127919.644928   \n",
       "std     7435.396984           7.327546    201.551156   36675.088739   \n",
       "min      100.000000        1910.000000      0.000000   10000.000000   \n",
       "25%     1250.000000        1999.000000     75.000000  125000.000000   \n",
       "50%     3012.000000        2004.000000    109.000000  150000.000000   \n",
       "75%     7498.000000        2008.000000    150.000000  150000.000000   \n",
       "max    99900.000000        2019.000000  17700.000000  150000.000000   \n",
       "\n",
       "       registration_month   postal_code  \n",
       "count        47427.000000  47427.000000  \n",
       "mean             5.826976  51045.792861  \n",
       "std              3.666954  25743.305971  \n",
       "min              0.000000   1067.000000  \n",
       "25%              3.000000  30826.000000  \n",
       "50%              6.000000  49740.000000  \n",
       "75%              9.000000  71706.000000  \n",
       "max             12.000000  99998.000000  "
      ]
     },
     "execution_count": 13,
     "metadata": {},
     "output_type": "execute_result"
    }
   ],
   "source": [
    "# Only makes sense to have a registration year from 1900 till 2019\n",
    "autos = autos[autos[\"registration_year\"].between(1900,2019)]\n",
    "autos.describe()"
   ]
  },
  {
   "cell_type": "markdown",
   "metadata": {},
   "source": [
    "Now the distributions make more sense after taking the outliers out. The data is cleaned let's investigate what is the mean price of the top 10 car brands on sale."
   ]
  },
  {
   "cell_type": "code",
   "execution_count": 14,
   "metadata": {
    "collapsed": false
   },
   "outputs": [
    {
     "name": "stdout",
     "output_type": "stream",
     "text": [
      "               mean_price\n",
      "audi               9194.5\n",
      "bmw                8194.7\n",
      "fiat               2767.4\n",
      "ford               3648.9\n",
      "mercedes_benz      8443.4\n",
      "opel               2949.4\n",
      "peugeot            3084.9\n",
      "renault            2414.8\n",
      "seat               4309.9\n",
      "volkswagen         5374.4\n"
     ]
    }
   ],
   "source": [
    "top_brands = autos[\"brand\"].value_counts().head(10).index\n",
    "\n",
    "brand_mean_prices = {}\n",
    "\n",
    "for brand in top_brands:\n",
    "    current_brand = autos[autos[\"brand\"]==brand]\n",
    "    mean_price = current_brand[\"price\"].mean()\n",
    "    brand_mean_prices[brand] = round(mean_price,1)\n",
    "\n",
    "bmp_series = pd.Series(brand_mean_prices)\n",
    "bmp_df = pd.DataFrame(bmp_series, columns=['mean_price'])\n",
    "print(bmp_df)"
   ]
  },
  {
   "cell_type": "markdown",
   "metadata": {},
   "source": [
    "Let's see if there is a correlation between mean milage of these brands and their mean price."
   ]
  },
  {
   "cell_type": "code",
   "execution_count": 15,
   "metadata": {
    "collapsed": false
   },
   "outputs": [
    {
     "name": "stdout",
     "output_type": "stream",
     "text": [
      "               mean_price  mean_mileage\n",
      "audi               9194.5      130543.0\n",
      "bmw                8194.7      134716.4\n",
      "fiat               2767.4      120073.6\n",
      "ford               3648.9      126299.2\n",
      "mercedes_benz      8443.4      132687.8\n",
      "opel               2949.4      131894.8\n",
      "peugeot            3084.9      128271.8\n",
      "renault            2414.8      130603.2\n",
      "seat               4309.9      123579.4\n",
      "volkswagen         5374.4      130858.2\n"
     ]
    }
   ],
   "source": [
    "brand_mean_mileage = {}\n",
    "\n",
    "for brand in top_brands:\n",
    "    current_brand = autos[autos[\"brand\"]==brand]\n",
    "    mean_mileage = current_brand[\"odometer_km\"].mean()\n",
    "    brand_mean_mileage[brand] = round(mean_mileage,1)\n",
    "\n",
    "    \n",
    "bmm_series = pd.Series(brand_mean_mileage)\n",
    "bmp_df[\"mean_mileage\"] = bmm_series\n",
    "print(bmp_df)"
   ]
  },
  {
   "cell_type": "markdown",
   "metadata": {},
   "source": [
    "Interestingly the mean mileage for the top 10 brands is roughly the same this implies that at least for these brands the price is independent of the milage."
   ]
  }
 ],
 "metadata": {
  "kernelspec": {
   "display_name": "Python 3",
   "language": "python",
   "name": "python3"
  },
  "language_info": {
   "codemirror_mode": {
    "name": "ipython",
    "version": 3
   },
   "file_extension": ".py",
   "mimetype": "text/x-python",
   "name": "python",
   "nbconvert_exporter": "python",
   "pygments_lexer": "ipython3",
   "version": "3.4.3"
  }
 },
 "nbformat": 4,
 "nbformat_minor": 2
}
